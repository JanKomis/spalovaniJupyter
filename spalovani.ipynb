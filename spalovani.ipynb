{
 "cells": [
  {
   "cell_type": "markdown",
   "metadata": {},
   "source": [
    "# Spalování zemního plynu"
   ]
  },
  {
   "cell_type": "markdown",
   "metadata": {},
   "source": [
    "### Zadání"
   ]
  },
  {
   "cell_type": "markdown",
   "metadata": {},
   "source": [
    "Do hořáku proudí 1500 m3/hod zemního plynu. Jako okysličovadlo je použit atmosférický vzduch o relativní vlhkostí 50%. Teplota okysličovadla i plynu je 40 &deg;C a míchání probíhá za atmosférického tlaku (101325 Pa).\n",
    "    \n",
    "Určete:\n",
    "\n",
    "* Jaké množství vzduchu bude potřeba, pro ideální spálení paliva.\n",
    "* Jaké množství suchých a vhlkých spalin vznikne po spálení.\n",
    "* Jaké bude složení spalin\n",
    "* Jaká bude výhřevnost paliva\n",
    "* Jaká bude teoretická teplota spalin.\n",
    "\n",
    "Složení zemního plynu je:\n",
    "\n",
    "* methan (CH4) = 85.8%\n",
    "* ethan (C2H6) = 8.49%\n",
    "* propan (C3H8) = 2.3%\n",
    "* butan (C4H10) = 0.7%\n",
    "* pentan (C5H12) = 0.25%\n",
    "* dusík (N2) = 0.96%\n",
    "* oxid uhličitý (CO2) = 1.5%\n",
    "    \n",
    "Složení suchého vzduchu je:\n",
    "\n",
    "* dusík (N2) = 78.04%\n",
    "* kyslík (O2) = 20.99%\n",
    "* argon (Ar) = 0.94%\n",
    "* oxid uhličitý (CO2) = 0.03%"
   ]
  },
  {
   "cell_type": "markdown",
   "metadata": {},
   "source": [
    "### Teoretický rozbor"
   ]
  },
  {
   "cell_type": "markdown",
   "metadata": {},
   "source": [
    "Plyny rozdělujeme na:\n",
    "* Ideální – U ideálních plynů platí, že molekuly plynů jsou vzájemně hodně vzdálené, lze\n",
    "tedy zanedbat vliv ostatních molekul (přitažlivé a odpudivé síly) a lze zanedbat jejich\n",
    "velikost. Plyny lze za ideální považovat za nízkého tlaku nebo vysoké teploty.\n",
    "* Reálné – Reálné plyny jsou opakem ideálních a je nutné počítat i se vzájemným\n",
    "ovlivňováním částic a velikostí molekul. Plyny jako reálné je nutné považovat okolo hodnot\n",
    "blízkých zkapalnění nebo blízko kritického bodu.\n",
    "Pro potřeby výpočtu spalování, kdy se pohybujeme okolo normálních teplot a za tlaků\n",
    "blízkých atmosférickému, považujeme plyny jako ideální. Ideální plyny se řídí stavovou\n",
    "rovnic:\n",
    "\n",
    "    $$r = \\frac{pv}{T}$$\n",
    "    \n",
    " Kde: \n",
    " \n",
    " * $p$ - tlak [$Pa$]\n",
    " * $v$ - měrný objem [$m^{3}$⸱$kg^{-1}$]\n",
    " * $T$ - teplota [$K$]\n",
    " * $r$ - měrná plynová konstanta [$J$⸱$kg^{-1}$⸱$K^{-1}$]\n",
    " \n",
    " A dále platí:\n",
    " $$r = \\frac{R_m}{M}$$\n",
    " \n",
    " $$v = \\frac{V}{m}$$\n",
    " \n",
    " $$M = \\frac{m}{n}$$\n",
    " \n",
    " $$V = \\frac{n}{N_V}$$\n",
    " \n",
    "\n",
    " Kde: \n",
    " \n",
    " * $R_m$ - univerzální plynová konstanta [8.3143 $J$⸱$mol^{-1}$⸱$K^{-1}$]\n",
    " * $V$ - objem [$m^{3}$]\n",
    " * $m$ - hmotnost [$kg$]\n",
    " * $M$ - molární hmotnost [$kg^{-1}$⸱$kmol^{-1}$]\n",
    " * $n$ - molární množství [$kmol$]\n",
    " * $N_V$ - molární objem [22.414 $m^{3}$⸱$kmol^{-1}$]\n",
    " \n",
    " Pro stanovení jednotlivých složek ve směsi lze využít některého vztahu:\n",
    " \n",
    " $$w_i = \\frac{m_i}{m} \\to c_{wi}= w_i⸱100 $$\n",
    " \n",
    " $$x_i = \\frac{n_i}{n} = \\frac{V_i}{V} = \\frac{p_i}{p} \\to c_{ni}= x_i⸱100 $$\n",
    " \n",
    " Kde:\n",
    " * $w_i$ - hmotnostní zlomek [-]\n",
    " * $m_i$ - hmotnost dané složky [$kg$]\n",
    " * $c_{xi}$ - hmotnostní koncentrace [%]\n",
    " * $x_i$ - molární/objemový zlomek [-]\n",
    " * $n_i$ - molární množství dané složky [$kmol$]\n",
    " * $V_i$ - objem dané složky objem [ $m^{3}$] \n",
    " * $p_i$ - parciální tlak dané složky [$Pa$]\n",
    " * $c_{ni}$ - molární/objemová koncentrace [%]\n",
    "\n",
    "<br>\n",
    "\n",
    "2. Předpokládáme dokonalé spalování. To znamená že množství kyslíku pro spálení paliva je dáno pomocí stechyometrických koeficientů.  \n",
    "\n",
    "Výpočet následně rozdělíme do několika částí:\n",
    "\n",
    "#### Výpočet vlhkého vzduchu\n",
    "\n",
    "Vzduch rozlišujeme na tzv. suchý a vlhký. Vlhký vzduch na rozdíl od suchého obsahuje malé množství vodní páry, jež se změnou teploty a tlaku kolísá. Díky předpokladu že se pohybujeme okolo atmosférického tlaku a běžných teplot můžeme vlhký vzduch počítat jako ideální směs plynů. Proto koncentraci vody ve vzduchu spočítáme jako: \n",
    "\n",
    " $$\\varphi = \\frac{p_{H_{2}O}}{p_{H_{2}O}\"} = \\frac{\\frac{p_{H_{2}O}}{p}}{\\frac{p_{H_{2}O}\"}{p}} = \\frac{c_{VH_{2}O}}{c_{VH_{2}O}\"} \\to c_{VH_{2}O} = \\varphi \\cdot c_{VH_{2}O}\" = \\varphi \\cdot \\frac{p_{H_{2}O}\"}{p}$$\n",
    " \n",
    " Kde:\n",
    " \n",
    " * $\\varphi$ - relativní hmotnost [-]\n",
    " * $p_{H_{2}O}$ - parciální tlak vodní páry [$Pa$]\n",
    " * $p_{H_{2}O}\"$ - parciální tlak nasycené vodní páry [$Pa$]\n",
    " * $c_{VH_{2}O}$ - objemová koncentrace vodní páry [%]\n",
    " * $c_{VH_{2}O}\"$ - objemová koncentrace nasycené vodní páry [%]\n",
    " \n",
    " Tlak nasycené vodní páry lze zjistit buď pomocí tabulek, či pomocí Antoinetovy rovnice.\n",
    " \n",
    " Složení vlhkého vzduchu pak spočteme jako:\n",
    " \n",
    "$$c_{ni} = \\frac{n_i}{n} = \\frac{V_i}{V} = c_{vi} \\to c_{VH_{2}O} = c_{nH_{2}O}$$\n",
    "\n",
    "Kde:\n",
    "\n",
    "\n",
    "A složení vlhkého vzduchu pak vypočítáme jako:\n",
    "\n",
    "$$c^{VZ}_{i} = c^{SV}_{i} \\cdot (1-c_{VH_{2}O})$$\n",
    "\n",
    "Kde:\n",
    " * $c^{SV}_{i}$ - koncentrace i-té složky suchého vzduchu [%]\n",
    " \n",
    " * $c^{VV}_{i}$ - koncentrace i-té složky vlhkého vzduchu [%]"
   ]
  },
  {
   "cell_type": "markdown",
   "metadata": {},
   "source": [
    "#### Množství kyslíku\n",
    "\n",
    "Chemické reakce při spalování jsou popsány pomocí stechyometrických rovnic z kterých lze zjistit množství množství prvků vystupujících v chemické reakci. Například z rovnice:\n",
    "\n",
    "$$H_2 + \\frac{1}{2} O_2 \\to H_2 O$$\n",
    "\n",
    "Vyplývá že, pro spálení 1 molu vodíku je potřeba 0.5 molu kyslíku. Stejným principem se řídí i spalování ostatních hořlavých složek plynu. Při výpočtu směsi je výpočet následující:\n",
    "\n",
    "$$  \\dot{n}_{O_{2}} = \\displaystyle\\sum_{i=1}^{n} c_{ni} \\cdot S_{iO_{2}} \\cdot \\dot{n}^{P}$$\n",
    "\n",
    "Kde:\n",
    "* $\\dot{n}_{O_{2}}$ - molový průtok kyslíku [$kmol$⸱$hod^{-1}$]\n",
    "\n",
    "\n",
    "* $S_{iO_{2}}$ - stechiometrický koeficient udávající množství kyslíku [-]\n",
    "\n",
    "\n",
    "* ${n}^{P}$ - molový průtok paliva [$kmol^{-1}$⸱$hod^{-1}$]\n",
    "\n",
    "Celkové množství okysličovadla se vypočítá pomocí vztahu:\n",
    "\n",
    "$$  \\dot{n}^{Ok} = \\frac{\\dot{n}_{O_{2}}}{c^{OK}_{nO_{2}}} $$\n",
    "\n",
    "Kde:\n",
    "* ${c^{OK}_{nO_{2}}}$ - molární koncentrace kyslíku v okysličovadle [%]\n",
    "\n",
    "\n",
    "* $\\dot{n}^{Ok}$ - molový průtok okysličovadla [$kmol$⸱$hod^{-1}$]\n",
    "\n",
    "Poměr mezi množstvím paliva a okysličovadla udává tzv. air/fuel ratio které vypočteme dle vztahu:\n",
    "\n",
    "$$  AFR = \\frac{\\dot{n}^{OK}}{\\dot{n}^{P}} $$\n",
    "\n",
    "Kde:\n",
    "* AFR - poměr mezi množstvím okysličovadla a paliva [-]\n"
   ]
  },
  {
   "cell_type": "markdown",
   "metadata": {},
   "source": [
    "#### Složení spalin\n",
    "\n",
    "Podobným způsobem jakým lze vypočítat množství kyslíku potřebného pro ideální spalování lze obdobným způsobem vypočítat z stechiometrických rovnic výsledné složení spalin."
   ]
  },
  {
   "cell_type": "markdown",
   "metadata": {},
   "source": [
    "#### Průtoky spalin\n",
    "\n",
    "Spaliny lze rozdělit na suché a vlhké. Vlhké spaliny jsou produktem spalování paliva a okysličovadla. Platí tedy:\n",
    "\n",
    "$$  \\dot{m}^{VSP} = \\dot{m}^{OK} + \\dot{m}^{P} $$\n",
    "\n",
    "Kde:\n",
    "* $\\dot{m}^{VSP}$ - hmotnostní průtok vlhkých spalin [$kg$⸱$hod^{-1}$]\n",
    "\n",
    "* $\\dot{m}^{OK}$ -hmotnostní průtok okysličovadla [$kg$⸱$hod^{-1}$]\n",
    "\n",
    "* $\\dot{m}^{P}$ - hmotnostní průtok paliva [$kg$⸱$hod^{-1}$]\n",
    "\n",
    "Suché spaliny vzniknou z vlhkých spalin odstraněním vodní páry:\n",
    "\n",
    "$$  \\dot{m}^{SSP} = \\dot{m}^{VSP} \\cdot (1 - c^{VSP}_{wH_{2}O})$$\n",
    "\n",
    "Kde:\n",
    "\n",
    "* $\\dot{m}^{SSP}$ - hmotnostní průtok suchých spalin [$kg$⸱$hod^{-1}$]\n",
    "\n",
    "\n",
    "* $c^{VSP}_{wH_{2}O}$ - hmotnostní koncentrace vody ve vlhkých spalinách [%]\n"
   ]
  },
  {
   "cell_type": "markdown",
   "metadata": {},
   "source": [
    "#### Entalpie plynů\n",
    "\n",
    "Jednotlivé entalpii prvků spočítáme pomocí NASA polynomu:\n",
    "\n",
    "$$  h_{T-0} = R \\cdot T \\cdot \\left (A_1 + A_2 \\cdot \\frac{T}{2} + A_3 \\cdot \\frac{T^{2}}{3} + A_4 \\cdot \\frac{T^{3}}{4} + \n",
    "A_5 \\cdot \\frac{T^{4}}{5} + A_6 \\cdot \\frac{1}{T}\\right)$$\n",
    "\n",
    "Kde:\n",
    "\n",
    "* $c^{VSP}_{nH_{2}O}$ - měrná entalpie vztažená k 0 K [$kJ$⸱$mol^{-1}$]\n",
    "\n",
    "\n",
    "* $A_1,A_2,A_3,A_4,A_5,A_6$ - experimentálně získané hodnoty pro konkrétní prvek [-]\n",
    "\n",
    "\n",
    "Takto vypočtená entalpie je vztažená k referenční teplotě 0 K. Pro výpočet entalpie\n",
    "vztažené k jiné referenční teplotě, než je 0 K, je výpočet následující:\n",
    "\n",
    "$$  h_{T-273.15} = hf_{273.15-0} + (h_{T-0} - hf_{273.15-0}) $$\n",
    "\n",
    "Kde:\n",
    "* $hf_{273.15-0}$ - měrná entalpie pro 298.15 K [$kJ$⸱$mol^{-1}$]\n"
   ]
  },
  {
   "cell_type": "markdown",
   "metadata": {},
   "source": [
    "#### Výhřevnost a spalné teplo\n",
    "\n",
    "Výhřevnost (lower heating value - LHV) je teplo uvolněné dokonalým spálením 1kg paliva s kyslíkem a jejichž spaliny jsou ochlazeny na původní teplotu paliva. Voda obsažená ve spalinách zůstane v plynném stavu. Výpočet je dle rovnice:\n",
    "\n",
    "$$  lhv = \\displaystyle\\sum_{i=1}^{n} \\dot{n_i}^{VSP} \\cdot h_{i}^{VSP} - \\displaystyle\\sum_{i=1}^{n} \\dot{n_i}^{P} \\cdot h_{i}^{P} $$\n",
    "\n",
    "$$ m_P = \\displaystyle\\sum_{i=1}^{n} \\dot{n_i}^{P} \\cdot M_{i} $$\n",
    "\n",
    "$$  LHV = \\frac{lhv}{m_P} $$\n",
    "\n",
    "Kde:\n",
    "* $lhv$ - výhřevnost [$kJ$⸱$mol^{-1}$]\n",
    "\n",
    "\n",
    "* $LHV$ - výhřevnost [$kJ$⸱$kg^{-1}$]\n",
    "\n",
    "\n",
    "* ${n}^{VSP}$ - molární množství vlhkých spalin [$mol$]\n",
    "\n",
    "\n",
    "* ${n}^{P}$ - molární množství paliva [$mol$]\n",
    "\n",
    "\n",
    "* $h^{P}_{i}$ - měrná entalpie paliva [$kJ$⸱$mol^{-1}$]\n",
    "\n",
    "\n",
    "* $h^{VSP}_{i}$ - měrná entalpie vlhkých spalin [$kJ$⸱$mol^{-1}$]\n",
    "\n"
   ]
  },
  {
   "cell_type": "markdown",
   "metadata": {},
   "source": [
    "#### Adiabatická teplota plamene\n",
    "\n",
    "Určení teploty plamene při adiabatickém spalování vychází z předpokladu, že neexistují\n",
    "tepelné ztráty, a teplo vytvořené spálením reaktantu (paliva + okysličovadla) zvýší entalpii\n",
    "spalin a zároveň jejich teplotu. Vycházíme proto z rovnice\n",
    "\n",
    "$$  \\displaystyle\\sum_{i=1}^{n} \\dot{n_i}^{VSP} \\cdot h_{i}^{VSP} = \\displaystyle\\sum_{i=1}^{n} \\dot{n_i}^{P} \\cdot h_{i}^{P} + \\displaystyle\\sum_{i=1}^{n} \\dot{n_i}^{OK} \\cdot h_{i}^{OK} + lhv $$\n",
    "\n",
    "Kde:\n",
    "* ${n}^{OK}$ - molární množství okysličovadla [$mol$]\n",
    "\n",
    "\n",
    "* $h^{OK}_{i}$ - měrná entalpie okysličovadla [$kJ$⸱$mol^{-1}$]\n",
    "\n",
    "Protože známe hodnotu na pravé straně rovnice a víme, že entalpie jsou\n",
    "funkcí teploty, lze iterací teploty najít entalpie vlhkých spalin, pro které bude rovnice platit."
   ]
  },
  {
   "cell_type": "markdown",
   "metadata": {},
   "source": [
    "### Program"
   ]
  },
  {
   "cell_type": "markdown",
   "metadata": {},
   "source": [
    "Zadané hodnoty"
   ]
  },
  {
   "cell_type": "code",
   "execution_count": 1,
   "metadata": {},
   "outputs": [],
   "source": [
    "import numpy as np\n",
    "import cantera as ct\n",
    "\n",
    "Q_paliva = 1500 #m3/hod\n",
    "\n",
    "t = 293.15\n",
    "p = 101325\n",
    "\n",
    "t_ref = 273.15\n",
    "\n",
    "x = 0.5  #relativní vlhkost vzduchu\n",
    "\n",
    "suchy_vzduch_slozeni = np.array(['O2','N2','AR','CO2'])\n",
    "suchy_vzduch_mnozstvi =np.array([20.99,78.04,0.94,0.03])\n",
    "\n",
    "palivo_slozeni = np.array(['CH4','C2H6','C3H8','C4H10','NC5H12','N2','CO2'])\n",
    "palivo_mnozstvi =np.array([85.8,8.49,2.3,0.7,0.25,0.96,1.5])\n",
    "\n",
    "\n",
    "#prvky = vzduch_slozeni + palivo_slozeni + ['H2O']\n",
    "prvky = ['CH4','C2H6','C3H8','C4H10','NC5H12','N2','CO2','H2O','O2','AR']"
   ]
  },
  {
   "cell_type": "markdown",
   "metadata": {},
   "source": [
    "Složení vlhkého vzduchu"
   ]
  },
  {
   "cell_type": "code",
   "execution_count": 2,
   "metadata": {},
   "outputs": [
    {
     "name": "stdout",
     "output_type": "stream",
     "text": [
      "\n",
      "       temperature          293.15  K\n",
      "          pressure          101325  Pa\n",
      "           density         1.19895  kg/m^3\n",
      "  mean mol. weight         28.8409  amu\n",
      "\n",
      "                          1 kg            1 kmol\n",
      "                       -----------      ------------\n",
      "          enthalpy     -1.0561e+05       -3.046e+06     J\n",
      "   internal energy     -1.9012e+05       -5.483e+06     J\n",
      "           entropy          6888.5        1.987e+05     J/K\n",
      "    Gibbs function      -2.125e+06       -6.129e+07     J\n",
      " heat capacity c_p          1008.9         2.91e+04     J/K\n",
      " heat capacity c_v           720.6        2.078e+04     J/K\n",
      "\n",
      "                           X                 Y          Chem. Pot. / RT\n",
      "                     -------------     ------------     ------------\n",
      "                N2       0.771413         0.749283         -23.2931\n",
      "               CO2    0.000296545      0.000452514         -195.283\n",
      "               H2O      0.0115155       0.00719312          -126.39\n",
      "                O2       0.207483         0.230201         -26.2469\n",
      "                AR     0.00929175        0.0128702          -23.289\n",
      "     [   +5 minor]              0                0\n",
      "\n"
     ]
    }
   ],
   "source": [
    "water = ct.PureFluid('liquidvapor.cti', 'water')\n",
    "\n",
    "water.TP = t,p\n",
    "Psat = water.P_sat\n",
    "\n",
    "x_Psat = Psat*x #tlak nasycených par\n",
    "x_H20 = x_Psat/(p/100)  #množství vody\n",
    "\n",
    "vlhky_vzduch_slozeni = suchy_vzduch_slozeni\n",
    "vlhky_vzduch_mnozstvi = suchy_vzduch_mnozstvi\n",
    "\n",
    "\n",
    "vlhky_vzduch_slozeni = np.append(vlhky_vzduch_slozeni,['H2O'])\n",
    "vlhky_vzduch_mnozstvi = vlhky_vzduch_mnozstvi * ((100-x_H20)/100)\n",
    "vlhky_vzduch_mnozstvi = np.append(vlhky_vzduch_mnozstvi,[x_H20])\n",
    "\n",
    "\n",
    "vsechny_prvky = {i.name: i for i in ct.Species.listFromFile('JetSurf2.cti')}\n",
    "pouzite_prvky = [vsechny_prvky[i] for i in prvky]\n",
    "\n",
    "vzduch = ct.Solution(thermo='IdealGas', species=pouzite_prvky)\n",
    "vzduch[vlhky_vzduch_slozeni].X = vlhky_vzduch_mnozstvi\n",
    "vzduch.TP = t, p\n",
    "\n",
    "M_vzduch = vzduch.mean_molecular_weight\n",
    "vzduch()"
   ]
  },
  {
   "cell_type": "markdown",
   "metadata": {},
   "source": [
    "AFR ratio"
   ]
  },
  {
   "cell_type": "code",
   "execution_count": 3,
   "metadata": {},
   "outputs": [
    {
     "name": "stdout",
     "output_type": "stream",
     "text": [
      "AFR ratio = 10.573 [-]\n"
     ]
    }
   ],
   "source": [
    "\n",
    "def ratio_vzduch(tpalivo,tvzduch,tpouzite_prvky,teplota,tlak):\n",
    "    q_palivo = ct.Quantity(tpalivo, moles=1)\n",
    "    q_vzduch = ct.Quantity(tvzduch, moles=1)\n",
    "    \n",
    "    q_smes = q_palivo + q_vzduch\n",
    "    test_smes = ct.Solution(thermo='IdealGas', species=tpouzite_prvky)\n",
    "    test_smes.TPX = teplota, tlak,q_smes.mole_fraction_dict()\n",
    "    \n",
    "    ratio = test_smes.get_equivalence_ratio(ignore=['NO'])\n",
    "    return ratio\n",
    "    \n",
    "\n",
    "vzduch.TP = t_ref, p\n",
    "h_vz_ref = vzduch.enthalpy_mole\n",
    "\n",
    "vzduch.TP = t, p\n",
    "h_vz = vzduch.enthalpy_mole\n",
    "\n",
    "h_vzduch = (h_vz - h_vz_ref)/1000\n",
    "\n",
    "palivo = ct.Solution(thermo='IdealGas', species=pouzite_prvky)\n",
    "palivo[palivo_slozeni].X = palivo_mnozstvi\n",
    "palivo.TP = t_ref, p\n",
    "\n",
    "h_pal_ref = palivo.enthalpy_mole\n",
    "palivo.TP = t, p\n",
    "h_pal = palivo.enthalpy_mole\n",
    "M_pal = palivo.mean_molecular_weight #\n",
    "\n",
    "h_palivo = (h_pal - h_pal_ref)/1000\n",
    "\n",
    "ratio = ratio_vzduch(tpalivo=palivo,tvzduch=vzduch,tpouzite_prvky = pouzite_prvky,teplota = t,tlak = p)\n",
    "\n",
    "print('AFR ratio = {} [-]'.format(round(ratio, 3)))"
   ]
  },
  {
   "cell_type": "markdown",
   "metadata": {},
   "source": [
    "Složení spalin"
   ]
  },
  {
   "cell_type": "code",
   "execution_count": 4,
   "metadata": {},
   "outputs": [
    {
     "name": "stdout",
     "output_type": "stream",
     "text": [
      "Vlhké spaliny\n",
      "\n",
      "       temperature          293.15  K\n",
      "          pressure          101325  Pa\n",
      "           density         1.15497  kg/m^3\n",
      "  mean mol. weight         27.7831  amu\n",
      "\n",
      "                          1 kg            1 kmol\n",
      "                       -----------      ------------\n",
      "          enthalpy     -3.0787e+06       -8.553e+07     J\n",
      "   internal energy     -3.1664e+06       -8.797e+07     J\n",
      "           entropy          7174.3        1.993e+05     J/K\n",
      "    Gibbs function     -5.1818e+06        -1.44e+08     J\n",
      " heat capacity c_p          1102.5        3.063e+04     J/K\n",
      " heat capacity c_v          803.26        2.232e+04     J/K\n",
      "\n",
      "                           X                 Y          Chem. Pot. / RT\n",
      "                     -------------     ------------     ------------\n",
      "                N2       0.700683         0.706495         -23.3892\n",
      "               CO2      0.0991481         0.157056         -189.471\n",
      "               H2O       0.191739         0.124328         -123.578\n",
      "                AR     0.00842988         0.012121         -23.3863\n",
      "     [   +6 minor]    8.01207e-18      4.62641e-18\n",
      "\n",
      "Suché spaliny\n",
      "\n",
      "       temperature          293.15  K\n",
      "          pressure         54004.1  Pa\n",
      "           density        0.666917  kg/m^3\n",
      "  mean mol. weight         30.1002  amu\n",
      "\n",
      "                          1 kg            1 kmol\n",
      "                       -----------      ------------\n",
      "          enthalpy     -1.6086e+06       -4.842e+07     J\n",
      "   internal energy     -1.6896e+06       -5.086e+07     J\n",
      "           entropy            6716        2.022e+05     J/K\n",
      "    Gibbs function     -3.5774e+06       -1.077e+08     J\n",
      " heat capacity c_p          994.54        2.994e+04     J/K\n",
      " heat capacity c_v          718.31        2.162e+04     J/K\n",
      "\n",
      "                           X                 Y          Chem. Pot. / RT\n",
      "                     -------------     ------------     ------------\n",
      "                N2       0.866902         0.806803         -23.8056\n",
      "               CO2       0.122668         0.179355         -189.887\n",
      "                AR      0.0104296        0.0138419         -23.8027\n",
      "     [   +7 minor]              0                0\n",
      "\n"
     ]
    }
   ],
   "source": [
    "palivo[palivo_slozeni].X = palivo_mnozstvi\n",
    "q_palivo = ct.Quantity(palivo, moles=1)\n",
    "\n",
    "vzduch[vlhky_vzduch_slozeni].X = vlhky_vzduch_mnozstvi\n",
    "q_vzduch = ct.Quantity(vzduch, moles=ratio)\n",
    "    \n",
    "q_smes = q_palivo + q_vzduch\n",
    "\n",
    "smes = ct.Solution(thermo='IdealGas', species=pouzite_prvky)\n",
    "smes.TPX = t, p, q_smes.mole_fraction_dict()\n",
    "\n",
    "smes.equilibrate('TP')\n",
    "\n",
    "print('Vlhké spaliny')\n",
    "smes()\n",
    "M_vlhke_spaliny = smes.mean_molecular_weight\n",
    "yh2o = smes['H2O'].Y[0]\n",
    "\n",
    "suche_spaliny = np.array(['N2','CO2','AR'])\n",
    "suche_spaliny_mnozstvi = smes[suche_spaliny].X\n",
    "\n",
    "s_spaliny = ct.Solution(thermo='IdealGas', species=pouzite_prvky)\n",
    "s_spaliny.TP = t, p\n",
    "s_spaliny[suche_spaliny].X = suche_spaliny_mnozstvi\n",
    "M_suche_spaliny = s_spaliny.mean_molecular_weight\n",
    "\n",
    "print('Suché spaliny')\n",
    "s_spaliny()"
   ]
  },
  {
   "cell_type": "markdown",
   "metadata": {},
   "source": [
    "Průtoky"
   ]
  },
  {
   "cell_type": "code",
   "execution_count": 5,
   "metadata": {},
   "outputs": [
    {
     "name": "stdout",
     "output_type": "stream",
     "text": [
      "Objemový průtok vzduchu = 15859.019 [m3/hod]\n",
      "Objemový průtok vlhkých spalin = 17480.444 [m3/hod]\n",
      "Objemový průtok suchých spalin = 14128.769 [m3/hod]\n"
     ]
    }
   ],
   "source": [
    "Q_vzduch = ratio*Q_paliva\n",
    "\n",
    "n_pal = Q_paliva/22.414\n",
    "n_vzduch = Q_vzduch/22.414\n",
    "\n",
    "\n",
    "m_pal = n_pal * M_pal\n",
    "m_vzduch = n_vzduch * M_vzduch\n",
    "\n",
    "m_vlhke_spaliny = m_pal + m_vzduch\n",
    "m_suche_spaliny = m_vlhke_spaliny * (1 - yh2o)\n",
    "\n",
    "n_vlhke_spaliny = m_vlhke_spaliny / M_vlhke_spaliny\n",
    "n_suche_spaliny = m_suche_spaliny / M_suche_spaliny\n",
    "\n",
    "Q_vlhke_spaliny = n_vlhke_spaliny * 22.414\n",
    "Q_suche_spaliny = n_suche_spaliny * 22.414\n",
    "\n",
    "print('Objemový průtok vzduchu = {} [m3/hod]'.format(round(Q_vzduch, 3)))\n",
    "print('Objemový průtok vlhkých spalin = {} [m3/hod]'.format(round(Q_vlhke_spaliny, 3)))\n",
    "print('Objemový průtok suchých spalin = {} [m3/hod]'.format(round(Q_suche_spaliny, 3)))"
   ]
  },
  {
   "cell_type": "markdown",
   "metadata": {},
   "source": [
    "Výhřevnost"
   ]
  },
  {
   "cell_type": "code",
   "execution_count": 6,
   "metadata": {},
   "outputs": [
    {
     "name": "stdout",
     "output_type": "stream",
     "text": [
      "Výhřevnost paliva je  = 46.886 [MJ/kg]\n"
     ]
    }
   ],
   "source": [
    "\n",
    "vyhr_smes = ct.Solution(thermo='IdealGas', species=pouzite_prvky)\n",
    "vyhr_smes.TP = t, p\n",
    "vyhr_smes[palivo_slozeni].X = palivo_mnozstvi\n",
    "vyhr_smes.set_equivalence_ratio(1, 'O2', vyhr_smes.mole_fraction_dict())\n",
    "h_m_1 = vyhr_smes.enthalpy_mass\n",
    "hmotnost_paliva = 1- (vyhr_smes['O2'].Y[0])\n",
    "\n",
    "vyhr_smes.equilibrate('TP')\n",
    "h_m_2 = vyhr_smes.enthalpy_mass\n",
    "\n",
    "LHV = (-(h_m_2 - h_m_1)/hmotnost_paliva)/1000000\n",
    "\n",
    "print('Výhřevnost paliva je  = {} [MJ/kg]'.format(round(LHV, 3)))"
   ]
  },
  {
   "cell_type": "markdown",
   "metadata": {},
   "source": [
    "Adiabatická teplota plamene"
   ]
  },
  {
   "cell_type": "code",
   "execution_count": 7,
   "metadata": {},
   "outputs": [
    {
     "name": "stdout",
     "output_type": "stream",
     "text": [
      "Entalpie paliva je  = 757.459 [kJ/kmol]\n",
      "Entalpie okysličovadla je  = 581.354 [kJ/kmol]\n",
      "Entalpie spalin je  = 76442.736 [kJ/kmol]\n",
      "Teplota spalin je  = 2311.192 [K]\n"
     ]
    }
   ],
   "source": [
    "tempeture_spal = ct.Solution(thermo='IdealGas', species=pouzite_prvky)\n",
    "tempeture_spal.TPX = t, p, q_smes.mole_fraction_dict()\n",
    "\n",
    "tempeture_spal.equilibrate('HP')\n",
    "T_spalin = tempeture_spal.T\n",
    "\n",
    "h_spal = tempeture_spal.enthalpy_mole\n",
    "\n",
    "tempeture_spal.TP = t_ref,p\n",
    "\n",
    "h_spal_ref = tempeture_spal.enthalpy_mole\n",
    "\n",
    "h_spaliny = (h_spal - h_spal_ref)/1000\n",
    "\n",
    "print('Entalpie paliva je  = {} [kJ/kmol]'.format(round(h_palivo, 3)))\n",
    "print('Entalpie okysličovadla je  = {} [kJ/kmol]'.format(round(h_vzduch, 3)))\n",
    "print('Entalpie spalin je  = {} [kJ/kmol]'.format(round(h_spaliny, 3)))\n",
    "print('Teplota spalin je  = {} [K]'.format(round(T_spalin, 3)))"
   ]
  }
 ],
 "metadata": {
  "kernelspec": {
   "display_name": "Python 3 (ipykernel)",
   "language": "python",
   "name": "python3"
  },
  "language_info": {
   "codemirror_mode": {
    "name": "ipython",
    "version": 3
   },
   "file_extension": ".py",
   "mimetype": "text/x-python",
   "name": "python",
   "nbconvert_exporter": "python",
   "pygments_lexer": "ipython3",
   "version": "3.7.16"
  }
 },
 "nbformat": 4,
 "nbformat_minor": 4
}
